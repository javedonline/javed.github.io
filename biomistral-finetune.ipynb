{
  "cells": [
    {
      "cell_type": "markdown",
      "metadata": {
        "id": "XIyP_0r6zuVc"
      },
      "source": [
        "<!-- Banner Image -->\n",
        "<img src=\"https://uohmivykqgnnbiouffke.supabase.co/storage/v1/object/public/landingpage/brevdevnotebooks.png\" width=\"100%\">\n",
        "\n",
        "<!-- Links -->\n",
        "<center>\n",
        "  <a href=\"https://console.brev.dev\" style=\"color: #06b6d4;\">Console</a> •\n",
        "  <a href=\"https://brev.dev\" style=\"color: #06b6d4;\">Docs</a> •\n",
        "  <a href=\"/\" style=\"color: #06b6d4;\">Templates</a> •\n",
        "  <a href=\"https://discord.gg/NVDyv7TUgJ\" style=\"color: #06b6d4;\">Discord</a>\n",
        "</center>\n",
        "\n",
        "# Fine-tuning BioMistral 7B using QLoRA 🤙\n",
        "\n",
        "Welcome!\n",
        "\n",
        "In this notebook and tutorial, we will fine-tune the [BioMistral](https://huggingface.co/BioMistral/BioMistral-7B) model (paper [here](https://arxiv.org/abs/2402.10373), an open-source LLM trained for the medical domain. We will fine-tune it on a [Medical Q&A dataset from Hugging Face](https://huggingface.co/datasets/keivalya/MedQuad-MedicalQnADataset).\n",
        "\n",
        "**Watch an similar video walk-through (but for Mixtral and on a different dataset) [here](https://www.youtube.com/watch?v=zbKz4g100SQ)!** If you'd like to see that notebook instead, click [here](https://github.com/brevdev/notebooks/blob/main/mixtral-finetune.ipynb).\n",
        "\n",
        "This tutorial will use QLoRA, a fine-tuning method that combines quantization and LoRA. For more information about what those are and how they work, see [this post](https://brev.dev/blog/how-qlora-works).\n",
        "\n",
        "In this notebook, we will load the large model in 4bit using `bitsandbytes` and use LoRA to train using the PEFT library from Hugging Face 🤗.\n",
        "\n",
        "Note that if you ever have trouble importing something from Huggingface, you may need to run `huggingface-cli login` in a shell. To open a shell in Jupyter Lab, click on 'Launcher' (or the '+' if it's not there) next to the notebook tab at the top of the screen. Under \"Other\", click \"Terminal\" and then run the command.\n",
        "\n",
        "### Help us make this tutorial better! Please provide feedback on the [Discord channel](https://discord.gg/y9428NwTh3) or on [X](https://x.com/harperscarroll)."
      ]
    },
    {
      "cell_type": "markdown",
      "metadata": {
        "id": "SSBw-KpkyRga"
      },
      "source": [
        "#### Before we begin: A note on OOM errors\n",
        "\n",
        "If you get an error like this: `OutOfMemoryError: CUDA out of memory`, tweak your parameters to make the model less computationally intensive. I will help guide you through that in this guide, and if you have any additional questions you can reach out on the [Discord channel](https://discord.gg/y9428NwTh3) or on [X](https://x.com/harperscarroll).\n",
        "\n",
        "To re-try after you tweak your parameters, open a Terminal ('Launcher' or '+' in the nav bar above -> Other -> Terminal) and run the command `nvidia-smi`. Then find the process ID `PID` under `Processes` and run the command `kill [PID]`. You will need to re-start your notebook from the beginning. (There may be a better way to do this... if so please do let me know!)"
      ]
    },
    {
      "cell_type": "markdown",
      "metadata": {
        "id": "hWI-uRLEyRgb"
      },
      "source": [
        "## Let's begin!\n",
        "\n",
        "I used a GPU and dev environment from [brev.dev](https://brev.dev). The whole thing cost me $1 using a 1xA10G 24GB. Click the badge below to get your preconfigured instance:\n",
        "\n",
        "[![ Click here to deploy.](https://brev-assets.s3.us-west-1.amazonaws.com/nv-lb-dark.svg)](https://console.brev.dev/environment/new?instance=A10G:g5.xlarge&diskStorage=256&name=biomistral-finetune&file=https://github.com/brevdev/notebooks/raw/main/biomistral-finetune.ipynb&python=3.10&cuda=12.0.1)\n",
        "\n",
        "A single A10G (as linked) or L4 should be enough for this dataset; anything with >= 24GB GPU Memory. You may need more GPUs and/or Memory if your sequence max_length is larger than 512.\n",
        "\n",
        "Once you've checked out your machine and landed in your instance page, select the specs you'd like (I used **Python 3.10 and CUDA 12.0.1**; these should be preconfigured for you if you use the badge above) and click the \"Build\" button to build your verb container. Give this a few minutes.\n",
        "\n",
        "A few minutes after your model has started Running, click the 'Notebook' button on the top right of your screen once it illuminates (you may need to refresh the screen). You will be taken to a Jupyter Lab environment, where you can upload this Notebook.\n",
        "\n",
        "\n",
        "Note: You can connect your cloud credits (AWS or GCP) by clicking \"Org: \" on the top right, and in the panel that slides over, click \"Connect AWS\" or \"Connect GCP\" under \"Connect your cloud\" and follow the instructions linked to attach your credentials.\n",
        "\n"
      ]
    },
    {
      "cell_type": "code",
      "execution_count": null,
      "metadata": {
        "id": "FuXIFTFapAMI",
        "outputId": "a75e6839-b9c0-4d3f-be1a-7126cec41f4e"
      },
      "outputs": [
        {
          "name": "stdout",
          "output_type": "stream",
          "text": [
            "\n",
            "\u001b[1m[\u001b[0m\u001b[34;49mnotice\u001b[0m\u001b[1;39;49m]\u001b[0m\u001b[39;49m A new release of pip is available: \u001b[0m\u001b[31;49m23.0.1\u001b[0m\u001b[39;49m -> \u001b[0m\u001b[32;49m24.0\u001b[0m\n",
            "\u001b[1m[\u001b[0m\u001b[34;49mnotice\u001b[0m\u001b[1;39;49m]\u001b[0m\u001b[39;49m To update, run: \u001b[0m\u001b[32;49mpip install --upgrade pip\u001b[0m\n",
            "\n",
            "\u001b[1m[\u001b[0m\u001b[34;49mnotice\u001b[0m\u001b[1;39;49m]\u001b[0m\u001b[39;49m A new release of pip is available: \u001b[0m\u001b[31;49m23.0.1\u001b[0m\u001b[39;49m -> \u001b[0m\u001b[32;49m24.0\u001b[0m\n",
            "\u001b[1m[\u001b[0m\u001b[34;49mnotice\u001b[0m\u001b[1;39;49m]\u001b[0m\u001b[39;49m To update, run: \u001b[0m\u001b[32;49mpip install --upgrade pip\u001b[0m\n",
            "\n",
            "\u001b[1m[\u001b[0m\u001b[34;49mnotice\u001b[0m\u001b[1;39;49m]\u001b[0m\u001b[39;49m A new release of pip is available: \u001b[0m\u001b[31;49m23.0.1\u001b[0m\u001b[39;49m -> \u001b[0m\u001b[32;49m24.0\u001b[0m\n",
            "\u001b[1m[\u001b[0m\u001b[34;49mnotice\u001b[0m\u001b[1;39;49m]\u001b[0m\u001b[39;49m To update, run: \u001b[0m\u001b[32;49mpip install --upgrade pip\u001b[0m\n",
            "\n",
            "\u001b[1m[\u001b[0m\u001b[34;49mnotice\u001b[0m\u001b[1;39;49m]\u001b[0m\u001b[39;49m A new release of pip is available: \u001b[0m\u001b[31;49m23.0.1\u001b[0m\u001b[39;49m -> \u001b[0m\u001b[32;49m24.0\u001b[0m\n",
            "\u001b[1m[\u001b[0m\u001b[34;49mnotice\u001b[0m\u001b[1;39;49m]\u001b[0m\u001b[39;49m To update, run: \u001b[0m\u001b[32;49mpip install --upgrade pip\u001b[0m\n",
            "\n",
            "\u001b[1m[\u001b[0m\u001b[34;49mnotice\u001b[0m\u001b[1;39;49m]\u001b[0m\u001b[39;49m A new release of pip is available: \u001b[0m\u001b[31;49m23.0.1\u001b[0m\u001b[39;49m -> \u001b[0m\u001b[32;49m24.0\u001b[0m\n",
            "\u001b[1m[\u001b[0m\u001b[34;49mnotice\u001b[0m\u001b[1;39;49m]\u001b[0m\u001b[39;49m To update, run: \u001b[0m\u001b[32;49mpip install --upgrade pip\u001b[0m\n"
          ]
        }
      ],
      "source": [
        "# You only need to run this once per machine\n",
        "!pip install -q -U bitsandbytes\n",
        "!pip install -q -U git+https://github.com/huggingface/transformers.git\n",
        "!pip install -q -U git+https://github.com/huggingface/peft.git\n",
        "!pip install -q -U git+https://github.com/huggingface/accelerate.git\n",
        "!pip install -q -U datasets scipy ipywidgets matplotlib"
      ]
    },
    {
      "cell_type": "markdown",
      "metadata": {
        "id": "QcE4NTeFyRgd"
      },
      "source": [
        "### 1. Load Dataset"
      ]
    },
    {
      "cell_type": "markdown",
      "metadata": {
        "id": "FCc64bfnmd3j"
      },
      "source": [
        "Let's load the a [Medical Q&A Dataset from Hugging Face](https://huggingface.co/datasets/keivalya/MedQuad-MedicalQnADataset)."
      ]
    },
    {
      "cell_type": "code",
      "execution_count": null,
      "metadata": {
        "id": "s6f4z8EYmcJ6"
      },
      "outputs": [],
      "source": [
        "from datasets import load_dataset\n",
        "\n",
        "dataset = load_dataset('keivalya/MedQuad-MedicalQnADataset', split='train')\n",
        "dataset = dataset.train_test_split(test_size=0.2)\n",
        "train_dataset = dataset['train']\n",
        "test_eval = dataset['test'].train_test_split(test_size=0.001) # just want a few test examples\n",
        "eval_dataset = test_eval['train']\n",
        "test_dataset = test_eval['test']"
      ]
    },
    {
      "cell_type": "code",
      "execution_count": null,
      "metadata": {
        "id": "EmZbX-ltyRge",
        "outputId": "aee3d1b7-12d0-4421-d276-f4ea86b46805"
      },
      "outputs": [
        {
          "name": "stdout",
          "output_type": "stream",
          "text": [
            "Dataset({\n",
            "    features: ['qtype', 'Question', 'Answer'],\n",
            "    num_rows: 13125\n",
            "})\n",
            "Dataset({\n",
            "    features: ['qtype', 'Question', 'Answer'],\n",
            "    num_rows: 3278\n",
            "})\n",
            "Dataset({\n",
            "    features: ['qtype', 'Question', 'Answer'],\n",
            "    num_rows: 4\n",
            "})\n"
          ]
        }
      ],
      "source": [
        "print(train_dataset)\n",
        "print(eval_dataset)\n",
        "print(test_dataset)"
      ]
    },
    {
      "cell_type": "code",
      "execution_count": null,
      "metadata": {
        "id": "NiEEJC3la1HP",
        "outputId": "e137f23c-030d-4c2f-d914-8339b83cc8ac"
      },
      "outputs": [
        {
          "name": "stdout",
          "output_type": "stream",
          "text": [
            "{'qtype': 'information', 'Question': 'Do you have information about Plastic and Cosmetic Surgery', 'Answer': \"Summary : Surgeons can reshape the appearance of body parts through cosmetic surgery. Some of the most common body parts people want to improve through surgery include       -  Breasts: Increase or reduce the size of breasts or reshape sagging breasts     -  Ears: Reduce the size of large ears or set protruding ears back closer to the head    -  Eyes: Correct drooping upper eyelids or remove puffy bags below the eyes    -  Face: Remove facial wrinkles, creases or acne scars    -  Hair: Fill in balding areas with one's own hair    -  Nose: Change the shape of the nose     -  Tummy: Flatten the abdomen\"}\n"
          ]
        }
      ],
      "source": [
        "print(test_dataset[0])"
      ]
    },
    {
      "cell_type": "markdown",
      "metadata": {
        "id": "shz8Xdv-yRgf"
      },
      "source": [
        "### 2. Load Base Model"
      ]
    },
    {
      "cell_type": "markdown",
      "metadata": {
        "id": "MJ-5idQwzvg-"
      },
      "source": [
        "Let's now load BioMistral - `BioMistral/BioMistral-7B` - using 4-bit quantization!"
      ]
    },
    {
      "cell_type": "code",
      "execution_count": null,
      "metadata": {
        "id": "E0Nl5mWL0k2T",
        "outputId": "e78929a5-8ff0-480f-ac69-ad62afdbbac2"
      },
      "outputs": [
        {
          "name": "stderr",
          "output_type": "stream",
          "text": [
            "`low_cpu_mem_usage` was None, now set to True since model is quantized.\n"
          ]
        }
      ],
      "source": [
        "import torch\n",
        "from transformers import AutoTokenizer, AutoModelForCausalLM, BitsAndBytesConfig\n",
        "\n",
        "base_model_id = \"BioMistral/BioMistral-7B\"\n",
        "bnb_config = BitsAndBytesConfig(\n",
        "    load_in_4bit=True,\n",
        "    bnb_4bit_use_double_quant=True,\n",
        "    bnb_4bit_quant_type=\"nf4\",\n",
        "    bnb_4bit_compute_dtype=torch.bfloat16\n",
        ")\n",
        "\n",
        "model = AutoModelForCausalLM.from_pretrained(base_model_id, quantization_config=bnb_config)"
      ]
    },
    {
      "cell_type": "markdown",
      "metadata": {
        "id": "UjNdXolqyRgf"
      },
      "source": [
        "### 3. Tokenization\n",
        "\n",
        "Set up the tokenizer.\n",
        "\n",
        "To set `max_length`, which has a direct impact on your compute requirements, it's helpful to get a distribution of your data lengths. Hugging Face shares that data clearly, like so:\n",
        "\n",
        "![image.png](attachment:b587035d-e371-45cc-8ae2-f3f95d028ea6.png)\n",
        "\n",
        "However, since we're combining multiple features of this dataset in `generate_and_tokenize_prompt`, let's get our own distribution of the final form of the data. Let's first tokenize without the truncation/padding, so we can get that length distribution."
      ]
    },
    {
      "cell_type": "code",
      "execution_count": null,
      "metadata": {
        "id": "rDRkYhqPa1HR"
      },
      "outputs": [],
      "source": [
        "tokenizer = AutoTokenizer.from_pretrained(\n",
        "    base_model_id,\n",
        "    add_eos_token=True,\n",
        "    add_bos_token=True,\n",
        ")"
      ]
    },
    {
      "cell_type": "markdown",
      "metadata": {
        "id": "WLvc85zDyRgg"
      },
      "source": [
        "Setup the tokenize function to make labels and input_ids the same. This is basically what [self-supervised fine-tuning is](https://neptune.ai/blog/self-supervised-learning):"
      ]
    },
    {
      "cell_type": "code",
      "execution_count": null,
      "metadata": {
        "id": "1hFsEFp5yRgg"
      },
      "outputs": [],
      "source": [
        "def tokenize(prompt):\n",
        "    result = tokenizer(prompt)\n",
        "    result[\"labels\"] = result[\"input_ids\"].copy()\n",
        "    return result"
      ]
    },
    {
      "cell_type": "markdown",
      "metadata": {
        "id": "tJtsbrr6yRgg"
      },
      "source": [
        "And convert each sample into a prompt. Note that I provide an \"identifier\" (\"From the MedQuad MedicalQA Dataset:\") as I find them to be very helpful. See a video where I explain them [here](https://www.instagram.com/p/C209DnSr6hz/)."
      ]
    },
    {
      "cell_type": "code",
      "execution_count": null,
      "metadata": {
        "id": "6z9rvnoDyRgg"
      },
      "outputs": [],
      "source": [
        "def generate_and_tokenize_prompt(data_point):\n",
        "    full_prompt =f\"\"\"From the MedQuad MedicalQA Dataset: Given the medical question and question type, provide an accurate answer.\n",
        "\n",
        "### Question type:\n",
        "{test_dataset[1]['qtype']}\n",
        "\n",
        "### Question:\n",
        "{data_point[\"Question\"]}\n",
        "\n",
        "### Answer:\n",
        "{data_point[\"Answer\"]}\n",
        "\"\"\"\n",
        "    return tokenize(full_prompt)\n"
      ]
    },
    {
      "cell_type": "markdown",
      "metadata": {
        "id": "WHnKLcq4yRgg"
      },
      "source": [
        "Reformat the prompt and tokenize each sample:"
      ]
    },
    {
      "cell_type": "code",
      "execution_count": null,
      "metadata": {
        "id": "q2qYeNA2yRgh",
        "scrolled": true,
        "outputId": "f4dcfc84-6871-4805-d787-0ec5ae74d6ba",
        "colab": {
          "referenced_widgets": [
            "c4ee8701dcd44e5c98c1f6a94724695e",
            "8add605595f843e28e1c71fa98567d9c"
          ]
        }
      },
      "outputs": [
        {
          "data": {
            "application/vnd.jupyter.widget-view+json": {
              "model_id": "c4ee8701dcd44e5c98c1f6a94724695e",
              "version_major": 2,
              "version_minor": 0
            },
            "text/plain": [
              "Map:   0%|          | 0/13125 [00:00<?, ? examples/s]"
            ]
          },
          "metadata": {},
          "output_type": "display_data"
        },
        {
          "data": {
            "application/vnd.jupyter.widget-view+json": {
              "model_id": "8add605595f843e28e1c71fa98567d9c",
              "version_major": 2,
              "version_minor": 0
            },
            "text/plain": [
              "Map:   0%|          | 0/3278 [00:00<?, ? examples/s]"
            ]
          },
          "metadata": {},
          "output_type": "display_data"
        }
      ],
      "source": [
        "tokenized_train_dataset = train_dataset.map(generate_and_tokenize_prompt)\n",
        "tokenized_val_dataset = eval_dataset.map(generate_and_tokenize_prompt)"
      ]
    },
    {
      "cell_type": "markdown",
      "metadata": {
        "id": "xCZslc02a1HS"
      },
      "source": [
        "You can untokenize to make sure it was formatted properly."
      ]
    },
    {
      "cell_type": "code",
      "execution_count": null,
      "metadata": {
        "id": "Q7Zcsd_la1HS",
        "outputId": "f769c381-232e-44f7-d521-7930e62e3b42"
      },
      "outputs": [
        {
          "name": "stdout",
          "output_type": "stream",
          "text": [
            "<s> From the MedQuad MedicalQA Dataset: Given the medical question and question type, provide an accurate answer.\n",
            "\n",
            "### Question type:\n",
            "information\n",
            "\n",
            "### Question:\n",
            "What are the treatments for Breast Cancer ?\n",
            "\n",
            "### Answer:\n",
            "Certain drugs that have been used successfully in other cancers are now being used to treat some breast cancers. A mix of drugs may increase the length of time you will live, or the length of time you will live without cancer. In addition, certain drugs like Herceptin and Tykerb taken in combination with chemotherapy, can help women with specific genetic breast cancer mutations better than chemotherapy alone.\n",
            "</s>\n"
          ]
        }
      ],
      "source": [
        "untokenized_text = tokenizer.decode(tokenized_train_dataset[1]['input_ids'])\n",
        "print(untokenized_text)"
      ]
    },
    {
      "cell_type": "markdown",
      "metadata": {
        "id": "j7sbNuCHa1HT"
      },
      "source": [
        "Let's get a distribution of our dataset lengths, so we can determine the appropriate `max_length` for our input tensors."
      ]
    },
    {
      "cell_type": "code",
      "execution_count": null,
      "metadata": {
        "id": "BA8M9yfC3m19",
        "outputId": "99c6d302-9bb6-47b1-cae9-a1cd870b4770",
        "scrolled": true
      },
      "outputs": [
        {
          "name": "stdout",
          "output_type": "stream",
          "text": [
            "16403\n"
          ]
        },
        {
          "data": {
            "image/png": "[encoded data removed]",
            "text/plain": [
              "<Figure size 1000x600 with 1 Axes>"
            ]
          },
          "metadata": {},
          "output_type": "display_data"
        }
      ],
      "source": [
        "import matplotlib.pyplot as plt\n",
        "\n",
        "def plot_data_lengths(tokenized_train_dataset, tokenized_val_dataset):\n",
        "    lengths = [len(x['input_ids']) for x in tokenized_train_dataset]\n",
        "    lengths += [len(x['input_ids']) for x in tokenized_val_dataset]\n",
        "    print(len(lengths))\n",
        "\n",
        "    # Plotting the histogram\n",
        "    plt.figure(figsize=(10, 6))\n",
        "    plt.hist(lengths, bins=20, alpha=0.7, color='blue')\n",
        "    plt.xlabel('Length of input_ids')\n",
        "    plt.ylabel('Frequency')\n",
        "    plt.title('Distribution of Lengths of input_ids')\n",
        "    plt.show()\n",
        "\n",
        "plot_data_lengths(tokenized_train_dataset, tokenized_val_dataset)"
      ]
    },
    {
      "cell_type": "markdown",
      "metadata": {
        "id": "V_pGTKeLa1HT"
      },
      "source": [
        "From here, you can choose where you'd like to set the `max_length` to be. You can truncate and pad training examples to fit them to your chosen size. Be aware that choosing a larger `max_length` has its compute tradeoffs.\n",
        "\n",
        "Now let's tokenize again with padding and truncation, and set up the tokenize function to make labels and input_ids the same. This is basically what [self-supervised fine-tuning is](https://neptune.ai/blog/self-supervised-learning).\n",
        "\n",
        "Add padding on the left as it [makes training use less memory](https://ai.stackexchange.com/questions/41485/while-fine-tuning-a-decoder-only-llm-like-llama-on-chat-dataset-what-kind-of-pa)."
      ]
    },
    {
      "cell_type": "code",
      "execution_count": null,
      "metadata": {
        "id": "NUlZ17t_a1HT"
      },
      "outputs": [],
      "source": [
        "max_length = 512 # This was an appropriate max length for my dataset\n",
        "\n",
        "# redefine the tokenize function and tokenizer\n",
        "\n",
        "tokenizer = AutoTokenizer.from_pretrained(\n",
        "    base_model_id,\n",
        "    padding_side=\"left\",\n",
        "    add_eos_token=True,\n",
        "    add_bos_token=True,\n",
        ")\n",
        "tokenizer.pad_token = tokenizer.eos_token\n",
        "\n",
        "\n",
        "def tokenize(prompt):\n",
        "    result = tokenizer(\n",
        "        prompt,\n",
        "        truncation=True,\n",
        "        max_length=max_length,\n",
        "        padding=\"max_length\",\n",
        "    )\n",
        "    result[\"labels\"] = result[\"input_ids\"].copy()\n",
        "    return result"
      ]
    },
    {
      "cell_type": "code",
      "execution_count": null,
      "metadata": {
        "id": "rXd413Uca1HT",
        "outputId": "14acb116-22a1-4314-d478-79e9e156f352",
        "colab": {
          "referenced_widgets": [
            "b189851021224c1aa6431a15f4f0a251",
            "bac53ea8b999408484a2430d0b29152d"
          ]
        }
      },
      "outputs": [
        {
          "data": {
            "application/vnd.jupyter.widget-view+json": {
              "model_id": "b189851021224c1aa6431a15f4f0a251",
              "version_major": 2,
              "version_minor": 0
            },
            "text/plain": [
              "Map:   0%|          | 0/13125 [00:00<?, ? examples/s]"
            ]
          },
          "metadata": {},
          "output_type": "display_data"
        },
        {
          "data": {
            "application/vnd.jupyter.widget-view+json": {
              "model_id": "bac53ea8b999408484a2430d0b29152d",
              "version_major": 2,
              "version_minor": 0
            },
            "text/plain": [
              "Map:   0%|          | 0/3278 [00:00<?, ? examples/s]"
            ]
          },
          "metadata": {},
          "output_type": "display_data"
        }
      ],
      "source": [
        "tokenized_train_dataset = train_dataset.map(generate_and_tokenize_prompt)\n",
        "tokenized_val_dataset = eval_dataset.map(generate_and_tokenize_prompt)"
      ]
    },
    {
      "cell_type": "markdown",
      "metadata": {
        "id": "TQL796OayRgh"
      },
      "source": [
        "Check that `input_ids` is padded on the left with the `eos_token` (2) and there is an `eos_token` 2 added to the end, and the prompt starts with a `bos_token` (1).\n"
      ]
    },
    {
      "cell_type": "code",
      "execution_count": null,
      "metadata": {
        "id": "-CRrG-SkyRgh",
        "scrolled": true,
        "outputId": "18b84cee-4ad5-47a8-ef92-1e14327cf868"
      },
      "outputs": [
        {
          "name": "stdout",
          "output_type": "stream",
          "text": [
            "[1, 3672, 272, 2998, 2190, 316, 12195, 28824, 28741, 9888, 7369, 28747, 12628, 272, 5714, 2996, 304, 2996, 1212, 28725, 3084, 396, 11229, 4372, 28723, 13, 13, 27332, 22478, 1212, 28747, 13, 20590, 13, 13, 27332, 22478, 28747, 13, 3195, 460, 272, 12380, 302, 1896, 595, 3389, 572, 28724, 346, 1212, 334, 1550, 13, 13, 27332, 26307, 28747, 13, 3195, 460, 272, 10090, 304, 12380, 302, 1896, 595, 3389, 572, 28724, 346, 1212, 334, 28804, 415, 10649, 367, 540, 21475, 16443, 2161, 5312, 272, 2296, 1274, 302, 10090, 304, 12380, 354, 1896, 595, 3389, 572, 28724, 346, 1212, 334, 28723, 1047, 272, 1871, 349, 2632, 28725, 272, 2401, 3624, 5532, 910, 2608, 272, 10800, 300, 349, 2598, 297, 905, 395, 456, 4644, 28723, 995, 541, 938, 272, 2998, 1081, 22886, 12195, 22828, 298, 913, 582, 272, 20343, 354, 1167, 5714, 3471, 28723, 9315, 28713, 304, 12356, 447, 5185, 20047, 28744, 3314, 1474, 302, 6883, 325, 11233, 2632, 28731, 2484, 10767, 2045, 302, 272, 1424, 323, 5882, 282, 15262, 28705, 28774, 28734, 28823, 1896, 595, 3389, 572, 28724, 346, 27481, 28705, 28774, 28734, 28823, 334, 538, 28733, 21501, 3769, 16030, 846, 274, 302, 272, 4986, 1108, 282, 5897, 302, 272, 1021, 28705, 28774, 28734, 28823, 367, 331, 9297, 615, 16030, 846, 274, 302, 272, 28705, 28750, 292, 9728, 28705, 28774, 28734, 28823, 367, 331, 9297, 615, 16030, 846, 274, 302, 272, 28705, 28770, 5240, 9728, 28705, 28774, 28734, 28823, 11530, 28705, 28750, 292, 9728, 28705, 28774, 28734, 28823, 11530, 28705, 28770, 5240, 9728, 28705, 28774, 28734, 28823, 11530, 4986, 1108, 282, 276, 28744, 302, 9728, 28705, 28774, 28734, 28823, 500, 4778, 283, 1847, 6752, 302, 9728, 28705, 28774, 28734, 28823, 19950, 350, 572, 28724, 346, 302, 272, 28705, 28782, 362, 9728, 28705, 28787, 28782, 28823, 1618, 20832, 286, 3769, 16030, 4088, 302, 272, 4986, 1108, 282, 276, 28744, 302, 272, 28705, 28750, 292, 9728, 28705, 28787, 28782, 28823, 1618, 20832, 286, 3769, 16030, 4088, 302, 272, 4986, 1108, 282, 276, 28744, 302, 272, 28705, 28770, 5240, 9728, 28705, 28787, 28782, 28823, 1618, 20832, 286, 3769, 16030, 4088, 302, 272, 430, 28744, 3048, 1108, 282, 276, 28744, 302, 272, 28705, 28750, 292, 9728, 28705, 28787, 28782, 28823, 1618, 20832, 286, 3769, 16030, 4088, 302, 272, 430, 28744, 3048, 1108, 282, 276, 28744, 302, 272, 28705, 28770, 5240, 9728, 28705, 28787, 28782, 28823, 11530, 28705, 28740, 303, 1424, 323, 5882, 282, 28705, 28787, 28782, 28823, 9982, 8685, 3769, 16030, 4088, 302, 272, 4986, 1108, 282, 276, 28744, 302, 272, 28705, 28750, 292, 9728, 28705, 28787, 28782, 28823, 9982, 8685, 3769, 16030, 4088, 302, 272, 4986, 1108, 282, 276, 28744, 302, 272, 28705, 28770, 5240, 9728, 28705, 28787, 28782, 28823, 9982, 8685, 3769, 16030, 4088, 302, 272, 430, 28744, 3048, 1108, 282, 276, 28744, 302, 272, 28705, 28750, 292, 9728, 28705, 28787, 28782, 28823, 9982, 8685, 3769, 16030, 4088, 302, 272, 430, 28744, 3048, 1108, 282, 276, 28744, 302, 272, 28705, 28770, 5240, 9728, 28705, 28787, 28782, 28823, 9982, 8685, 21028, 4986, 1108, 282, 276, 28744, 302, 272, 28705, 28750, 292, 9728, 28705, 28787, 28782, 2]\n"
          ]
        }
      ],
      "source": [
        "print(tokenized_train_dataset[4]['input_ids'])"
      ]
    },
    {
      "cell_type": "markdown",
      "metadata": {
        "id": "JjuFGATPa1HU"
      },
      "source": [
        "You can also untokenize to see it in plain text. It should start with `<s>` and end with `</s>`."
      ]
    },
    {
      "cell_type": "code",
      "execution_count": null,
      "metadata": {
        "scrolled": true,
        "id": "GGy_08UCa1HU",
        "outputId": "4094d6b7-7d0b-4143-a892-a602866debbc"
      },
      "outputs": [
        {
          "name": "stdout",
          "output_type": "stream",
          "text": [
            "</s></s></s></s></s></s></s></s></s></s></s></s></s></s></s></s></s></s></s></s></s></s></s></s></s></s></s></s></s></s></s></s></s></s></s></s></s></s></s></s></s></s></s></s></s></s></s></s></s></s></s></s></s></s></s></s></s></s></s></s></s></s></s></s></s></s></s></s></s></s></s></s></s></s></s></s></s></s></s></s></s></s></s></s></s></s></s></s></s></s></s></s></s></s></s></s></s></s></s></s></s></s></s></s></s></s></s></s></s></s></s></s></s></s></s></s></s></s></s></s></s></s></s></s></s></s></s></s></s></s></s></s></s></s></s></s></s></s></s></s></s></s></s></s></s></s></s></s></s></s></s></s></s></s></s></s></s></s></s></s></s></s></s></s></s></s></s></s></s></s></s></s></s></s></s></s></s></s></s></s></s></s></s></s></s></s></s></s></s></s></s></s></s></s></s></s></s></s></s></s></s></s></s></s></s></s></s></s></s></s></s></s></s></s></s></s></s></s></s></s></s></s></s></s></s></s></s></s></s></s></s></s></s></s></s></s></s></s></s></s></s></s></s></s></s></s></s></s></s></s></s></s></s></s></s></s></s></s></s></s></s></s></s></s></s></s></s></s></s></s></s></s></s></s></s></s></s></s></s></s></s></s></s></s></s></s></s></s></s></s></s></s></s></s></s></s></s></s></s></s></s></s></s></s></s></s></s></s></s></s></s></s></s></s></s></s></s></s></s></s></s></s></s></s></s></s></s></s></s></s></s></s></s></s></s></s></s></s></s></s></s></s></s></s></s></s></s></s></s></s></s></s></s></s></s></s></s></s></s></s></s></s></s></s></s></s></s></s></s></s></s></s><s> From the MedQuad MedicalQA Dataset: Given the medical question and question type, provide an accurate answer.\n",
            "\n",
            "### Question type:\n",
            "information\n",
            "\n",
            "### Question:\n",
            "What are the treatments for Breast Cancer ?\n",
            "\n",
            "### Answer:\n",
            "Certain drugs that have been used successfully in other cancers are now being used to treat some breast cancers. A mix of drugs may increase the length of time you will live, or the length of time you will live without cancer. In addition, certain drugs like Herceptin and Tykerb taken in combination with chemotherapy, can help women with specific genetic breast cancer mutations better than chemotherapy alone.\n",
            "</s>\n"
          ]
        }
      ],
      "source": [
        "untokenized_text = tokenizer.decode(tokenized_train_dataset[1]['input_ids'])\n",
        "print(untokenized_text)"
      ]
    },
    {
      "cell_type": "markdown",
      "metadata": {
        "id": "I6LRa2Zm3m19"
      },
      "source": [
        "Now all the samples should be the same length, `max_length`."
      ]
    },
    {
      "cell_type": "code",
      "execution_count": null,
      "metadata": {
        "id": "I55Yo3yy3m19",
        "outputId": "c87e344d-e0f3-4542-afcc-4e2025926d64",
        "scrolled": true
      },
      "outputs": [
        {
          "name": "stdout",
          "output_type": "stream",
          "text": [
            "16403\n"
          ]
        },
        {
          "data": {
            "image/png": "[encoded data removed]",
            "text/plain": [
              "<Figure size 1000x600 with 1 Axes>"
            ]
          },
          "metadata": {},
          "output_type": "display_data"
        }
      ],
      "source": [
        "plot_data_lengths(tokenized_train_dataset, tokenized_val_dataset)"
      ]
    },
    {
      "cell_type": "markdown",
      "metadata": {
        "id": "7fi9wEZYyRgh"
      },
      "source": [
        "#### How does the base model do?"
      ]
    },
    {
      "cell_type": "markdown",
      "metadata": {
        "id": "Vxbl4ACsyRgi"
      },
      "source": [
        "Let's grab a test input (`Question`) and desired output (`Answer`) pair to see how the base model does on it."
      ]
    },
    {
      "cell_type": "code",
      "execution_count": null,
      "metadata": {
        "id": "k_VRZDh9yRgi",
        "scrolled": true,
        "outputId": "d261343d-a724-4f00-d00c-5a82512f0016"
      },
      "outputs": [
        {
          "name": "stdout",
          "output_type": "stream",
          "text": [
            "Question: What are the symptoms of Norrie disease ?\n",
            "\n",
            "Answer: What are the signs and symptoms of Norrie disease? The Human Phenotype Ontology provides the following list of signs and symptoms for Norrie disease. If the information is available, the table below includes how often the symptom is seen in people with this condition. You can use the MedlinePlus Medical Dictionary to look up the definitions for these medical terms. Signs and Symptoms Approximate number of patients (when available) Abnormality of the retinal vasculature 90% Anterior chamber synechiae 90% Aplasia/Hypoplasia of the iris 90% Cataract 90% Chorioretinal abnormality 90% Deeply set eye 90% Hypotelorism 90% Macrotia 90% Narrow nasal bridge 90% Neoplasm of the eye 90% Opacification of the corneal stroma 90% Sclerocornea 90% Vascular neoplasm 90% Abnormality of the vitreous humor 50% Aplasia/Hypoplasia of the lens 50% Cognitive impairment 50% Erectile abnormalities 50% Nystagmus 50% Retinal detachment 50% Sensorineural hearing impairment 50% Stereotypic behavior 50% Venous insufficiency 50% Abnormality of immune system physiology 7.5% Abnormality of the diencephalon 7.5% Abnormality of the helix 7.5% Abnormality of the pupil 7.5% Aplasia/Hypoplasia of the cerebellum 7.5% Attention deficit hyperactivity disorder 7.5% Autism 7.5% Cerebral cortical atrophy 7.5% Cryptorchidism 7.5% Decreased body weight 7.5% Developmental regression 7.5% Diabetes mellitus 7.5% Ectopia lentis 7.5% EEG abnormality 7.5% Glaucoma 7.5% Hallucinations 7.5% Hyperreflexia 7.5% Hypertonia 7.5% Hypoplasia of the zygomatic bone 7.5% Involuntary movements 7.5% Microcephaly 7.5% Migraine 7.5% Muscle weakness 7.5% Muscular hypotonia 7.5% Optic atrophy 7.5% Scoliosis 7.5% Seizures 7.5% Self-injurious behavior 7.5% Sleep disturbance 7.5% Thin vermilion border 7.5% Aggressive behavior - Blindness - Dementia - Hypoplasia of the iris - Intellectual disability, progressive - Microphthalmia - Psychosis - Retinal dysplasia - Retinal fold - Shallow anterior chamber - X-linked recessive inheritance - The Human Phenotype Ontology (HPO) has collected information on how often a sign or symptom occurs in a condition. Much of this information comes from Orphanet, a European rare disease database. The frequency of a sign or symptom is usually listed as a rough estimate of the percentage of patients who have that feature. The frequency may also be listed as a fraction. The first number of the fraction is how many people had the symptom, and the second number is the total number of people who were examined in one study. For example, a frequency of 25/25 means that in a study of 25 people all patients were found to have that symptom. Because these frequencies are based on a specific study, the fractions may be different if another group of patients are examined. Sometimes, no information on frequency is available. In these cases, the sign or symptom may be rare or common.\n",
            "\n"
          ]
        }
      ],
      "source": [
        "print(\"Question: \" + test_dataset[2]['Question'] + \"\\n\")\n",
        "print(\"Answer: \" + test_dataset[2]['Answer'] + \"\\n\")"
      ]
    },
    {
      "cell_type": "code",
      "execution_count": null,
      "metadata": {
        "id": "gOxnx-cAyRgi",
        "outputId": "cf86973b-aed3-4338-f0d7-44cb93c35497"
      },
      "outputs": [
        {
          "name": "stdout",
          "output_type": "stream",
          "text": [
            "From the MedQuad MedicalQA Dataset: Given the following medical question and question type, provide an accurate answer:\n",
            "\n",
            "### Question type:\n",
            "symptoms\n",
            "\n",
            "### Question:\n",
            "What are the symptoms of Norrie disease ?\n",
            "\n",
            "### Answer:\n",
            "\n",
            "\n"
          ]
        }
      ],
      "source": [
        "eval_prompt = f\"\"\"From the MedQuad MedicalQA Dataset: Given the following medical question and question type, provide an accurate answer:\n",
        "\n",
        "### Question type:\n",
        "{test_dataset[2]['qtype']}\n",
        "\n",
        "### Question:\n",
        "{test_dataset[2]['Question']}\n",
        "\n",
        "### Answer:\n",
        "\"\"\"\n",
        "print(eval_prompt)"
      ]
    },
    {
      "cell_type": "code",
      "execution_count": null,
      "metadata": {
        "id": "LyrCCRVHa1HV"
      },
      "outputs": [],
      "source": [
        "# Apply the accelerator. You can comment this out to remove the accelerator.\n",
        "model = accelerator.prepare_model(model)"
      ]
    },
    {
      "cell_type": "code",
      "execution_count": null,
      "metadata": {
        "id": "NidIuFXMyRgi"
      },
      "outputs": [],
      "source": [
        "# Re-init the tokenizer so it doesn't add padding or eos token\n",
        "eval_tokenizer = AutoTokenizer.from_pretrained(\n",
        "    base_model_id,\n",
        "    add_bos_token=True,\n",
        ")"
      ]
    },
    {
      "cell_type": "code",
      "execution_count": null,
      "metadata": {
        "id": "1PmYxCdQa1HV"
      },
      "outputs": [],
      "source": [
        "device = \"cuda\"\n",
        "model_input = eval_tokenizer(eval_prompt, return_tensors=\"pt\").to(device)"
      ]
    },
    {
      "cell_type": "code",
      "execution_count": null,
      "metadata": {
        "id": "KUH170JCa1HV",
        "outputId": "a55a36dc-adc7-495d-ec0e-2793866c7558"
      },
      "outputs": [
        {
          "name": "stderr",
          "output_type": "stream",
          "text": [
            "Setting `pad_token_id` to `eos_token_id`:2 for open-end generation.\n"
          ]
        },
        {
          "name": "stdout",
          "output_type": "stream",
          "text": [
            "\n",
            "From the MedQuad MedicalQA Dataset: Given the following medical question and question type, provide an accurate answer:\n",
            "\n",
            "### Question type:\n",
            "symptoms\n",
            "\n",
            "### Question:\n",
            "What are the symptoms of Norrie disease ?\n",
            "\n",
            "### Answer:\n",
            "Norrie disease is a rare, X-linked recessive disorder of the blood vessels. It is characterized by the triad of retinal blindness, mental retardation, and hypertrophy of the optic disc. Norrie disease is caused by mutations in the NDP gene, which is located on the X chromosome. The symptoms of Norrie disease typically appear in infancy or early childhood. In addition to the triad of retinal blindness, mental retardation, and hypertrophy of the optic disc, other symptoms of Norrie disease may include seizures, behavioral problems, and hearing loss. The prognosis of Norrie disease is poor, and there is currently no cure or effective treatment.\n"
          ]
        }
      ],
      "source": [
        "model.eval()\n",
        "with torch.no_grad():\n",
        "    print(eval_tokenizer.decode(model.generate(**model_input, max_new_tokens=300)[0], skip_special_tokens=True))"
      ]
    },
    {
      "cell_type": "markdown",
      "metadata": {
        "id": "dCAWeCzZyRgi"
      },
      "source": [
        "We can see that out of the box, the output doesn't resemble the training data set's output."
      ]
    },
    {
      "cell_type": "markdown",
      "metadata": {
        "id": "AapDoyfAyRgi"
      },
      "source": [
        "### 4. Set Up LoRA"
      ]
    },
    {
      "cell_type": "markdown",
      "metadata": {
        "id": "Mp2gMi1ZzGET"
      },
      "source": [
        "Now, to start our fine-tuning, we have to apply some preprocessing to the model to prepare it for training. For that use the `prepare_model_for_kbit_training` method from PEFT."
      ]
    },
    {
      "cell_type": "code",
      "execution_count": null,
      "metadata": {
        "id": "a9EUEDAl0ss3"
      },
      "outputs": [],
      "source": [
        "from peft import prepare_model_for_kbit_training\n",
        "\n",
        "model.gradient_checkpointing_enable()\n",
        "model = prepare_model_for_kbit_training(model)"
      ]
    },
    {
      "cell_type": "code",
      "execution_count": null,
      "metadata": {
        "id": "gkIcwsSU01EB"
      },
      "outputs": [],
      "source": [
        "def print_trainable_parameters(model):\n",
        "    \"\"\"\n",
        "    Prints the number of trainable parameters in the model.\n",
        "    \"\"\"\n",
        "    trainable_params = 0\n",
        "    all_param = 0\n",
        "    for _, param in model.named_parameters():\n",
        "        all_param += param.numel()\n",
        "        if param.requires_grad:\n",
        "            trainable_params += param.numel()\n",
        "    print(\n",
        "        f\"trainable params: {trainable_params} || all params: {all_param} || trainable%: {100 * trainable_params / all_param}\"\n",
        "    )"
      ]
    },
    {
      "cell_type": "markdown",
      "metadata": {
        "id": "cUYEpEK-yRgj"
      },
      "source": [
        "Let's print the model to examine its layers, as we will apply QLoRA to all the linear layers of the model. Those layers are `q_proj`, `k_proj`, `v_proj`, `o_proj`, `gate_proj`, `up_proj`, `down_proj`, and `lm_head`."
      ]
    },
    {
      "cell_type": "code",
      "execution_count": null,
      "metadata": {
        "id": "XshGNsbxyRgj",
        "scrolled": true,
        "outputId": "9d7f9c56-b845-4a9c-aafd-f91645422f6e"
      },
      "outputs": [
        {
          "name": "stdout",
          "output_type": "stream",
          "text": [
            "MistralForCausalLM(\n",
            "  (model): MistralModel(\n",
            "    (embed_tokens): Embedding(32000, 4096)\n",
            "    (layers): ModuleList(\n",
            "      (0-31): 32 x MistralDecoderLayer(\n",
            "        (self_attn): MistralSdpaAttention(\n",
            "          (q_proj): Linear4bit(in_features=4096, out_features=4096, bias=False)\n",
            "          (k_proj): Linear4bit(in_features=4096, out_features=1024, bias=False)\n",
            "          (v_proj): Linear4bit(in_features=4096, out_features=1024, bias=False)\n",
            "          (o_proj): Linear4bit(in_features=4096, out_features=4096, bias=False)\n",
            "          (rotary_emb): MistralRotaryEmbedding()\n",
            "        )\n",
            "        (mlp): MistralMLP(\n",
            "          (gate_proj): Linear4bit(in_features=4096, out_features=14336, bias=False)\n",
            "          (up_proj): Linear4bit(in_features=4096, out_features=14336, bias=False)\n",
            "          (down_proj): Linear4bit(in_features=14336, out_features=4096, bias=False)\n",
            "          (act_fn): SiLU()\n",
            "        )\n",
            "        (input_layernorm): MistralRMSNorm()\n",
            "        (post_attention_layernorm): MistralRMSNorm()\n",
            "      )\n",
            "    )\n",
            "    (norm): MistralRMSNorm()\n",
            "  )\n",
            "  (lm_head): Linear(in_features=4096, out_features=32000, bias=False)\n",
            ")\n"
          ]
        }
      ],
      "source": [
        "print(model)"
      ]
    },
    {
      "cell_type": "markdown",
      "metadata": {
        "id": "I6mTLuQJyRgj"
      },
      "source": [
        "Here we define the LoRA config.\n",
        "\n",
        "`r` is the rank of the low-rank matrix used in the adapters, which thus controls the number of parameters trained. A higher rank will allow for more expressivity, but there is a compute tradeoff.\n",
        "\n",
        "`alpha` is the scaling factor for the learned weights. The weight matrix is scaled by `alpha/r`, and thus a higher value for `alpha` assigns more weight to the LoRA activations.\n",
        "\n",
        "The values used in the QLoRA paper were `r=64` and `lora_alpha=16`, and these are said to generalize well, but we will use `r=8` and `lora_alpha=16` so that we have more emphasis on the new fine-tuned data while also reducing computational complexity."
      ]
    },
    {
      "cell_type": "code",
      "execution_count": null,
      "metadata": {
        "id": "Ybeyl20n3dYH",
        "outputId": "71be4fbf-0c02-497e-c3eb-14443bb69112"
      },
      "outputs": [
        {
          "name": "stdout",
          "output_type": "stream",
          "text": [
            "trainable params: 21260288 || all params: 3773331456 || trainable%: 0.5634354746703705\n"
          ]
        }
      ],
      "source": [
        "from peft import LoraConfig, get_peft_model\n",
        "\n",
        "config = LoraConfig(\n",
        "    r=8,\n",
        "    lora_alpha=16,\n",
        "    target_modules=[\n",
        "        \"q_proj\",\n",
        "        \"k_proj\",\n",
        "        \"v_proj\",\n",
        "        \"o_proj\",\n",
        "        \"gate_proj\",\n",
        "        \"up_proj\",\n",
        "        \"down_proj\",\n",
        "        \"lm_head\",\n",
        "    ],\n",
        "    bias=\"none\",\n",
        "    lora_dropout=0.05,  # Conventional\n",
        "    task_type=\"CAUSAL_LM\",\n",
        ")\n",
        "\n",
        "model = get_peft_model(model, config)\n",
        "print_trainable_parameters(model)\n",
        "\n",
        "# Apply the accelerator. You can comment this out to remove the accelerator.\n",
        "model = accelerator.prepare_model(model)"
      ]
    },
    {
      "cell_type": "markdown",
      "metadata": {
        "id": "X_FHi_VLyRgn"
      },
      "source": [
        "See how the model looks different now, with the LoRA adapters added:"
      ]
    },
    {
      "cell_type": "code",
      "execution_count": null,
      "metadata": {
        "id": "IaYMWak4yRgn",
        "outputId": "ac4c11e7-87d7-4fe7-a385-3a24f14a7f76"
      },
      "outputs": [
        {
          "name": "stdout",
          "output_type": "stream",
          "text": [
            "PeftModelForCausalLM(\n",
            "  (base_model): LoraModel(\n",
            "    (model): MistralForCausalLM(\n",
            "      (model): MistralModel(\n",
            "        (embed_tokens): Embedding(32000, 4096)\n",
            "        (layers): ModuleList(\n",
            "          (0-31): 32 x MistralDecoderLayer(\n",
            "            (self_attn): MistralSdpaAttention(\n",
            "              (q_proj): lora.Linear4bit(\n",
            "                (base_layer): Linear4bit(in_features=4096, out_features=4096, bias=False)\n",
            "                (lora_dropout): ModuleDict(\n",
            "                  (default): Dropout(p=0.05, inplace=False)\n",
            "                )\n",
            "                (lora_A): ModuleDict(\n",
            "                  (default): Linear(in_features=4096, out_features=8, bias=False)\n",
            "                )\n",
            "                (lora_B): ModuleDict(\n",
            "                  (default): Linear(in_features=8, out_features=4096, bias=False)\n",
            "                )\n",
            "                (lora_embedding_A): ParameterDict()\n",
            "                (lora_embedding_B): ParameterDict()\n",
            "              )\n",
            "              (k_proj): lora.Linear4bit(\n",
            "                (base_layer): Linear4bit(in_features=4096, out_features=1024, bias=False)\n",
            "                (lora_dropout): ModuleDict(\n",
            "                  (default): Dropout(p=0.05, inplace=False)\n",
            "                )\n",
            "                (lora_A): ModuleDict(\n",
            "                  (default): Linear(in_features=4096, out_features=8, bias=False)\n",
            "                )\n",
            "                (lora_B): ModuleDict(\n",
            "                  (default): Linear(in_features=8, out_features=1024, bias=False)\n",
            "                )\n",
            "                (lora_embedding_A): ParameterDict()\n",
            "                (lora_embedding_B): ParameterDict()\n",
            "              )\n",
            "              (v_proj): lora.Linear4bit(\n",
            "                (base_layer): Linear4bit(in_features=4096, out_features=1024, bias=False)\n",
            "                (lora_dropout): ModuleDict(\n",
            "                  (default): Dropout(p=0.05, inplace=False)\n",
            "                )\n",
            "                (lora_A): ModuleDict(\n",
            "                  (default): Linear(in_features=4096, out_features=8, bias=False)\n",
            "                )\n",
            "                (lora_B): ModuleDict(\n",
            "                  (default): Linear(in_features=8, out_features=1024, bias=False)\n",
            "                )\n",
            "                (lora_embedding_A): ParameterDict()\n",
            "                (lora_embedding_B): ParameterDict()\n",
            "              )\n",
            "              (o_proj): lora.Linear4bit(\n",
            "                (base_layer): Linear4bit(in_features=4096, out_features=4096, bias=False)\n",
            "                (lora_dropout): ModuleDict(\n",
            "                  (default): Dropout(p=0.05, inplace=False)\n",
            "                )\n",
            "                (lora_A): ModuleDict(\n",
            "                  (default): Linear(in_features=4096, out_features=8, bias=False)\n",
            "                )\n",
            "                (lora_B): ModuleDict(\n",
            "                  (default): Linear(in_features=8, out_features=4096, bias=False)\n",
            "                )\n",
            "                (lora_embedding_A): ParameterDict()\n",
            "                (lora_embedding_B): ParameterDict()\n",
            "              )\n",
            "              (rotary_emb): MistralRotaryEmbedding()\n",
            "            )\n",
            "            (mlp): MistralMLP(\n",
            "              (gate_proj): lora.Linear4bit(\n",
            "                (base_layer): Linear4bit(in_features=4096, out_features=14336, bias=False)\n",
            "                (lora_dropout): ModuleDict(\n",
            "                  (default): Dropout(p=0.05, inplace=False)\n",
            "                )\n",
            "                (lora_A): ModuleDict(\n",
            "                  (default): Linear(in_features=4096, out_features=8, bias=False)\n",
            "                )\n",
            "                (lora_B): ModuleDict(\n",
            "                  (default): Linear(in_features=8, out_features=14336, bias=False)\n",
            "                )\n",
            "                (lora_embedding_A): ParameterDict()\n",
            "                (lora_embedding_B): ParameterDict()\n",
            "              )\n",
            "              (up_proj): lora.Linear4bit(\n",
            "                (base_layer): Linear4bit(in_features=4096, out_features=14336, bias=False)\n",
            "                (lora_dropout): ModuleDict(\n",
            "                  (default): Dropout(p=0.05, inplace=False)\n",
            "                )\n",
            "                (lora_A): ModuleDict(\n",
            "                  (default): Linear(in_features=4096, out_features=8, bias=False)\n",
            "                )\n",
            "                (lora_B): ModuleDict(\n",
            "                  (default): Linear(in_features=8, out_features=14336, bias=False)\n",
            "                )\n",
            "                (lora_embedding_A): ParameterDict()\n",
            "                (lora_embedding_B): ParameterDict()\n",
            "              )\n",
            "              (down_proj): lora.Linear4bit(\n",
            "                (base_layer): Linear4bit(in_features=14336, out_features=4096, bias=False)\n",
            "                (lora_dropout): ModuleDict(\n",
            "                  (default): Dropout(p=0.05, inplace=False)\n",
            "                )\n",
            "                (lora_A): ModuleDict(\n",
            "                  (default): Linear(in_features=14336, out_features=8, bias=False)\n",
            "                )\n",
            "                (lora_B): ModuleDict(\n",
            "                  (default): Linear(in_features=8, out_features=4096, bias=False)\n",
            "                )\n",
            "                (lora_embedding_A): ParameterDict()\n",
            "                (lora_embedding_B): ParameterDict()\n",
            "              )\n",
            "              (act_fn): SiLU()\n",
            "            )\n",
            "            (input_layernorm): MistralRMSNorm()\n",
            "            (post_attention_layernorm): MistralRMSNorm()\n",
            "          )\n",
            "        )\n",
            "        (norm): MistralRMSNorm()\n",
            "      )\n",
            "      (lm_head): lora.Linear(\n",
            "        (base_layer): Linear(in_features=4096, out_features=32000, bias=False)\n",
            "        (lora_dropout): ModuleDict(\n",
            "          (default): Dropout(p=0.05, inplace=False)\n",
            "        )\n",
            "        (lora_A): ModuleDict(\n",
            "          (default): Linear(in_features=4096, out_features=8, bias=False)\n",
            "        )\n",
            "        (lora_B): ModuleDict(\n",
            "          (default): Linear(in_features=8, out_features=32000, bias=False)\n",
            "        )\n",
            "        (lora_embedding_A): ParameterDict()\n",
            "        (lora_embedding_B): ParameterDict()\n",
            "      )\n",
            "    )\n",
            "  )\n",
            ")\n"
          ]
        }
      ],
      "source": [
        "print(model)"
      ]
    },
    {
      "cell_type": "markdown",
      "metadata": {
        "id": "_0MOtwf3zdZp"
      },
      "source": [
        "### 5. Run Training!"
      ]
    },
    {
      "cell_type": "markdown",
      "metadata": {
        "id": "-9KNTJZkyRgn"
      },
      "source": [
        "\n",
        "Let's use Weights & Biases to track our training metrics. You'll need to apply an API key when prompted. Feel free to skip this if you'd like, and just comment out the `wandb` parameters in the `Trainer` definition below."
      ]
    },
    {
      "cell_type": "code",
      "execution_count": null,
      "metadata": {
        "id": "DDqUNyIoyRgo",
        "outputId": "e90ff49f-39b4-4d53-afb0-e84f22cce5c9"
      },
      "outputs": [
        {
          "name": "stderr",
          "output_type": "stream",
          "text": [
            "huggingface/tokenizers: The current process just got forked, after parallelism has already been used. Disabling parallelism to avoid deadlocks...\n",
            "To disable this warning, you can either:\n",
            "\t- Avoid using `tokenizers` before the fork if possible\n",
            "\t- Explicitly set the environment variable TOKENIZERS_PARALLELISM=(true | false)\n"
          ]
        },
        {
          "name": "stdout",
          "output_type": "stream",
          "text": [
            "\n",
            "\u001b[1m[\u001b[0m\u001b[34;49mnotice\u001b[0m\u001b[1;39;49m]\u001b[0m\u001b[39;49m A new release of pip is available: \u001b[0m\u001b[31;49m23.0.1\u001b[0m\u001b[39;49m -> \u001b[0m\u001b[32;49m24.0\u001b[0m\n",
            "\u001b[1m[\u001b[0m\u001b[34;49mnotice\u001b[0m\u001b[1;39;49m]\u001b[0m\u001b[39;49m To update, run: \u001b[0m\u001b[32;49mpip install --upgrade pip\u001b[0m\n"
          ]
        },
        {
          "name": "stderr",
          "output_type": "stream",
          "text": [
            "\u001b[34m\u001b[1mwandb\u001b[0m: Currently logged in as: \u001b[33mharpercarroll\u001b[0m. Use \u001b[1m`wandb login --relogin`\u001b[0m to force relogin\n"
          ]
        }
      ],
      "source": [
        "!pip install -q wandb -U\n",
        "\n",
        "import wandb, os\n",
        "wandb.login()\n",
        "\n",
        "wandb_project = \"biomistral-finetune-identifier\"\n",
        "if len(wandb_project) > 0:\n",
        "    os.environ[\"WANDB_PROJECT\"] = wandb_project"
      ]
    },
    {
      "cell_type": "markdown",
      "metadata": {
        "id": "9KI7Vdc8a1HY"
      },
      "source": [
        "I used 2000 steps, but I found the model should have trained for longer as it had not converged by then, so I upped the steps to 3000 below.\n",
        "\n",
        "A note on training. You can set the `max_steps` to be high initially, and examine at what step your model's performance starts to degrade. There is where you'll find a sweet spot for how many steps to perform. For example, say you start with 1000 steps, and find that at around 500 steps the model starts overfitting - the validation loss goes up (bad) while the training loss goes down significantly, meaning the model is learning the training set really well, but is unable to generalize to new datapoints. Therefore, 500 steps would be your sweet spot, so you would use the `checkpoint-500` model repo in your output dir (`biomistral-medqa-finetune`) as your final model in step 6 below.\n",
        "\n",
        "You can interrupt the process via Kernel -> Interrupt Kernel in the top nav bar once you realize you didn't need to train anymore."
      ]
    },
    {
      "cell_type": "code",
      "execution_count": null,
      "metadata": {
        "id": "c_L1131GyRgo"
      },
      "outputs": [],
      "source": [
        "if torch.cuda.device_count() > 1: # If more than 1 GPU\n",
        "    model.is_parallelizable = True\n",
        "    model.model_parallel = True"
      ]
    },
    {
      "cell_type": "code",
      "execution_count": null,
      "metadata": {
        "id": "jq0nX33BmfaC"
      },
      "outputs": [],
      "source": [
        "import transformers\n",
        "from datetime import datetime\n",
        "\n",
        "project = \"medqa-finetune-identifier\"\n",
        "base_model_name = \"biomistral\"\n",
        "run_name = base_model_name + \"-\" + project\n",
        "output_dir = \"./\" + run_name\n",
        "\n",
        "tokenizer.pad_token = tokenizer.eos_token\n",
        "\n",
        "trainer = transformers.Trainer(\n",
        "    model=model,\n",
        "    train_dataset=tokenized_train_dataset,\n",
        "    eval_dataset=tokenized_val_dataset,\n",
        "    args=transformers.TrainingArguments(\n",
        "        output_dir=output_dir,\n",
        "        warmup_steps=5,\n",
        "        per_device_train_batch_size=2,\n",
        "        gradient_checkpointing=True,\n",
        "        gradient_accumulation_steps=4,\n",
        "        max_steps=3000,\n",
        "        learning_rate=2.5e-5, # Want about 10x smaller than the Mistral learning rate\n",
        "        logging_steps=50,\n",
        "        bf16=True,\n",
        "        optim=\"paged_adamw_8bit\",\n",
        "        logging_dir=\"./logs\",        # Directory for storing logs\n",
        "        save_strategy=\"steps\",       # Save the model checkpoint every logging step\n",
        "        save_steps=50,                # Save checkpoints every 50 steps\n",
        "        evaluation_strategy=\"steps\", # Evaluate the model every logging step\n",
        "        eval_steps=50,               # Evaluate and save checkpoints every 50 steps\n",
        "        do_eval=True,                # Perform evaluation at the end of training\n",
        "        report_to=\"wandb\",           # Comment this out if you don't want to use weights & baises\n",
        "        gradient_checkpointing_kwargs={'use_reentrant': True},\n",
        "        run_name=f\"{run_name}-{datetime.now().strftime('%Y-%m-%d-%H-%M')}\"          # Name of the W&B run (optional)\n",
        "    ),\n",
        "    data_collator=transformers.DataCollatorForLanguageModeling(tokenizer, mlm=False),\n",
        ")\n",
        "\n",
        "model.config.use_cache = False  # silence the warnings. Please re-enable for inference!\n",
        "trainer.train()"
      ]
    },
    {
      "cell_type": "markdown",
      "metadata": {
        "id": "8BIZHYcOa1HY"
      },
      "source": [
        "I cleared the output of the cell above because it was long & ugly, but the learning curves are below:"
      ]
    },
    {
      "cell_type": "markdown",
      "metadata": {
        "id": "fEe0uWYSyRgo"
      },
      "source": [
        "#### Learning Curves from Weights and Biases:\n",
        "![image.png](attachment:d49f69b2-7e22-43f8-bfe1-b1a3c21d0426.png) ![image.png](attachment:9c3a974d-ff3f-4080-914e-fcbb4484a59d.png)"
      ]
    },
    {
      "cell_type": "markdown",
      "metadata": {
        "id": "0D57XqcsyRgo"
      },
      "source": [
        "### 6. Drum Roll... Try the Trained Model!\n",
        "\n",
        "It's a good idea to kill the current process so that you don't run out of memory loading the base model again on top of the model we just trained. Go to `Kernel > Restart Kernel` or kill the process via the Terminal (`nvidia smi` > `kill [PID]`).\n",
        "\n",
        "By default, the PEFT library will only save the QLoRA adapters, so we need to first load the base Mistral model from the Huggingface Hub:\n"
      ]
    },
    {
      "cell_type": "code",
      "execution_count": null,
      "metadata": {
        "id": "SKSnF016yRgp"
      },
      "outputs": [],
      "source": [
        "import torch\n",
        "from transformers import AutoTokenizer, AutoModelForCausalLM, BitsAndBytesConfig\n",
        "\n",
        "base_model_id = \"BioMistral/BioMistral-7B\"\n",
        "bnb_config = BitsAndBytesConfig(\n",
        "    load_in_4bit=True,\n",
        "    bnb_4bit_use_double_quant=True,\n",
        "    bnb_4bit_quant_type=\"nf4\",\n",
        "    bnb_4bit_compute_dtype=torch.bfloat16\n",
        ")\n",
        "\n",
        "base_model = AutoModelForCausalLM.from_pretrained(\n",
        "    base_model_id,  # Mistral, same as before\n",
        "    quantization_config=bnb_config,  # Same quantization config as before\n",
        "    device_map=\"auto\",\n",
        "    trust_remote_code=True,\n",
        ")\n",
        "\n",
        "eval_tokenizer = AutoTokenizer.from_pretrained(\n",
        "    base_model_id,\n",
        "    add_bos_token=True,\n",
        "    trust_remote_code=True,\n",
        ")"
      ]
    },
    {
      "cell_type": "markdown",
      "metadata": {
        "id": "_BxOhAiqyRgp"
      },
      "source": [
        "Now load the QLoRA adapter from the appropriate checkpoint directory, i.e. the best performing model checkpoint:"
      ]
    },
    {
      "cell_type": "code",
      "execution_count": null,
      "metadata": {
        "id": "GwsiqhWuyRgp"
      },
      "outputs": [],
      "source": [
        "from peft import PeftModel\n",
        "\n",
        "ft_model = PeftModel.from_pretrained(base_model, \"biomistral-medqa-finetune-identifier/checkpoint-2000\")"
      ]
    },
    {
      "cell_type": "markdown",
      "metadata": {
        "id": "lX39ibolyRgp"
      },
      "source": [
        "and run your inference!"
      ]
    },
    {
      "cell_type": "markdown",
      "metadata": {
        "id": "UUehsaVNyRgp"
      },
      "source": [
        "Let's try the same `eval_prompt` and thus `model_input` as above, and see if the new finetuned model performs better. Since the training loss didn't converge, we can expect that the model won't perform excellently, but it should be at least better than the original model."
      ]
    },
    {
      "cell_type": "code",
      "execution_count": null,
      "metadata": {
        "id": "lMkVNEUvyRgp",
        "outputId": "225db045-3335-458d-cd7a-00da88399d85"
      },
      "outputs": [
        {
          "name": "stderr",
          "output_type": "stream",
          "text": [
            "Setting `pad_token_id` to `eos_token_id`:2 for open-end generation.\n"
          ]
        },
        {
          "name": "stdout",
          "output_type": "stream",
          "text": [
            "From the MedQuad MedicalQA Dataset: Given the following medical question and question type, provide an accurate answer:\n",
            "\n",
            "### Question type:\n",
            "symptoms\n",
            "\n",
            "### Question:\n",
            "What are the symptoms of Norrie disease ?\n",
            "\n",
            "### Answer:\n",
            "What are the signs and symptoms of Norrie disease? The Human Phenotype Ontology provides the following list of signs and symptoms for Norrie disease. If the information is available, the table below includes how often the symptom is seen in people with this condition. You can use the MedlinePlus Medical Dictionary to look up the definitions for these medical terms. Signs and Symptoms Approximate number of patients (when available) Abnormality of the retinal vasculature 90% Cataract 90% Glaucoma 90% Hearing impairment 90% Hydrocephalus 90% Microcephaly 90% Nystagmus 90% Optic atrophy 90% Visual impairment 90% Abnormality of the cochlea 50% Abnormality of the iris 50% Abnormality of the macula 50% Abnormality of the meninges 50% Abnormality of the nasal cavity 50% Abnormality of the nasopharynx 50% Abnormality of the palate 50% Abnormality of the pinna 50% Abnormality of the thorax 50% Abnormality of the ureter 50% Abnormality of the urinary tract 50\n"
          ]
        }
      ],
      "source": [
        "eval_prompt = \"\"\"From the MedQuad MedicalQA Dataset: Given the following medical question and question type, provide an accurate answer:\n",
        "\n",
        "### Question type:\n",
        "symptoms\n",
        "\n",
        "### Question:\n",
        "What are the symptoms of Norrie disease ?\n",
        "\n",
        "### Answer:\n",
        "\"\"\"\n",
        "\n",
        "model_input = eval_tokenizer(eval_prompt, return_tensors=\"pt\").to(\"cuda\")\n",
        "\n",
        "ft_model.eval()\n",
        "with torch.no_grad():\n",
        "    print(eval_tokenizer.decode(ft_model.generate(**model_input, max_new_tokens=300)[0], skip_special_tokens=True))"
      ]
    },
    {
      "cell_type": "markdown",
      "metadata": {
        "id": "-4TwTQI3a1HZ"
      },
      "source": [
        "Recall that the gold-label Answer was:\n",
        "> What are the signs and symptoms of Norrie disease? The Human Phenotype Ontology provides the following list of signs and symptoms for Norrie disease. If the information is available, the table below includes how often the symptom is seen in people with this condition. You can use the MedlinePlus Medical Dictionary to look up the definitions for these medical terms. Signs and Symptoms Approximate number of patients (when available) Abnormality of the retinal vasculature 90% Anterior chamber synechiae 90% Aplasia/Hypoplasia of the iris 90% Cataract 90% Chorioretinal abnormality 90% Deeply set eye 90% Hypotelorism 90% Macrotia 90% Narrow nasal bridge 90% Neoplasm of the eye 90% Opacification of the corneal stroma 90% Sclerocornea 90% Vascular neoplasm 90% Abnormality of the vitreous humor 50% Aplasia/Hypoplasia of the lens 50% Cognitive impairment 50% Erectile abnormalities 50% Nystagmus 50% Retinal detachment 50% Sensorineural hearing impairment 50% Stereotypic behavior 50% Venous insufficiency 50% Abnormality of immune system physiology 7.5% Abnormality of the diencephalon 7.5% Abnormality of the helix 7.5% Abnormality of the pupil 7.5% Aplasia/Hypoplasia of the cerebellum 7.5% Attention deficit hyperactivity disorder 7.5% Autism 7.5% Cerebral cortical atrophy 7.5% Cryptorchidism 7.5% Decreased body weight 7.5% Developmental regression 7.5% Diabetes mellitus 7.5% Ectopia lentis 7.5% EEG abnormality 7.5% Glaucoma 7.5% Hallucinations 7.5% Hyperreflexia 7.5% Hypertonia 7.5% Hypoplasia of the zygomatic bone 7.5% Involuntary movements 7.5% Microcephaly 7.5% Migraine 7.5% Muscle weakness 7.5% Muscular hypotonia 7.5% Optic atrophy 7.5% Scoliosis 7.5% Seizures 7.5% Self-injurious behavior 7.5% Sleep disturbance 7.5% Thin vermilion border 7.5% Aggressive behavior - Blindness - Dementia - Hypoplasia of the iris - Intellectual disability, progressive - Microphthalmia - Psychosis - Retinal dysplasia - Retinal fold - Shallow anterior chamber - X-linked recessive inheritance - The Human Phenotype Ontology (HPO) has collected information on how often a sign or symptom occurs in a condition. Much of this information comes from Orphanet, a European rare disease database. The frequency of a sign or symptom is usually listed as a rough estimate of the percentage of patients who have that feature. The frequency may also be listed as a fraction. The first number of the fraction is how many people had the symptom, and the second number is the total number of people who were examined in one study. For example, a frequency of 25/25 means that in a study of 25 people all patients were found to have that symptom. Because these frequencies are based on a specific study, the fractions may be different if another group of patients are examined. Sometimes, no information on frequency is available. In these cases, the sign or symptom may be rare or common.\n",
        "\n",
        "and out of the box, the model's output was:\n",
        "> Norrie disease is a rare, X-linked recessive disorder of the blood vessels. It is characterized by the triad of retinal blindness, mental retardation, and hypertrophy of the optic disc. Norrie disease is caused by mutations in the NDP gene, which is located on the X chromosome. The symptoms of Norrie disease typically appear in infancy or early childhood. In addition to the triad of retinal blindness, mental retardation, and hypertrophy of the optic disc, other symptoms of Norrie disease may include seizures, behavioral problems, and hearing loss. The prognosis of Norrie disease is poor, and there is currently no cure or effective treatment.\n",
        "\n",
        "The fine-tuned model responds:\n",
        "> What are the signs and symptoms of Norrie disease? The Human Phenotype Ontology provides the following list of signs and symptoms for Norrie disease. If the information is available, the table below includes how often the symptom is seen in people with this condition. You can use the MedlinePlus Medical Dictionary to look up the definitions for these medical terms. Signs and Symptoms Approximate number of patients (when available) Abnormality of the retinal vasculature 90% Cataract 90% Glaucoma 90% Hearing impairment 90% Hydrocephalus 90% Microcephaly 90% Nystagmus 90% Optic atrophy 90% Visual impairment 90% Abnormality of the cochlea 50% Abnormality of the iris 50% Abnormality of the macula 50% Abnormality of the meninges 50% Abnormality of the nasal cavity 50% Abnormality of the nasopharynx 50% Abnormality of the palate 50% Abnormality of the pinna 50% Abnormality of the thorax 50% Abnormality of the ureter 50% Abnormality of the urinary tract 50\n",
        "\n",
        "Therefore, we can see that our fine-tuned model has definitely learned from the training data. It provides a list of symptoms with percentages, and likely would have generated an output of a similar length to the gold label Answer if we had increased the `max_new_tokens`."
      ]
    },
    {
      "cell_type": "markdown",
      "metadata": {
        "id": "VCJnpZoayRgq"
      },
      "source": [
        "### Sweet... it worked! We learned how to respond in the form of our training data!\n",
        "\n",
        "I hope you enjoyed this tutorial on fine-tuning BioMistral. If you have any questions, feel free to reach out to me on [X](https://x.com/harperscarroll) or on the [Discord channel](https://discord.gg/y9428NwTh3).\n",
        "\n",
        "🤙 🤙 🤙 🤙 🤙 🤙 🤙 🤙 🤙 🤙 🤙 🤙 🤙 🤙 🤙 🤙 🤙 🤙 🤙 🤙 🤙 🤙 🤙 🤙 🤙 🤙 🤙 🤙 🤙 🤙 🤙 🤙 🤙 🤙 🤙 🤙 🤙 🤙 🤙 🤙 🤙 🤙 🤙 🤙"
      ]
    }
  ],
  "metadata": {
    "accelerator": "GPU",
    "colab": {
      "gpuType": "T4",
      "provenance": []
    },
    "gpuClass": "standard",
    "kernelspec": {
      "display_name": "Python 3 (ipykernel)",
      "language": "python",
      "name": "python3"
    },
    "language_info": {
      "codemirror_mode": {
        "name": "ipython",
        "version": 3
      },
      "file_extension": ".py",
      "mimetype": "text/x-python",
      "name": "python",
      "nbconvert_exporter": "python",
      "pygments_lexer": "ipython3",
      "version": "3.10.12"
    }
  },
  "nbformat": 4,
  "nbformat_minor": 0
}